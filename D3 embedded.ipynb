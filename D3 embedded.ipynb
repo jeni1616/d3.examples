{
 "cells": [
  {
   "cell_type": "code",
   "execution_count": 1,
   "metadata": {
    "collapsed": true
   },
   "outputs": [],
   "source": [
    "import math\n",
    "import os\n",
    "import datetime\n",
    "import numpy\n",
    "import pandas\n",
    "import matplotlib.pyplot as plt\n",
    "%matplotlib inline"
   ]
  },
  {
   "cell_type": "code",
   "execution_count": 2,
   "metadata": {
    "collapsed": false
   },
   "outputs": [
    {
     "data": {
      "text/html": [
       "\n",
       "                <h2>Simple D3 plot</h2>\n",
       "                <div id=\"chart\"></div>\n",
       "           "
      ]
     },
     "metadata": {},
     "output_type": "display_data"
    },
    {
     "data": {
      "application/javascript": [
       "$.getScript(\"http://rawgithub.com/mbostock/d3/master/d3.min.js\", function () {\n",
       "\n",
       "                    var width = 600;\n",
       "                    var height = 100;\n",
       "                    var root = d3.select('#chart').append('svg')\n",
       "                        .attr({\n",
       "                          'width': width,\n",
       "                          'height': height,\n",
       "                        })\n",
       "                        .style('border', '1px solid black');\n",
       "                     \n",
       "                    var evenNumbers = [0, 2, 4, 6, 8, 10];\n",
       "                    var maxDataValue = d3.max(evenNumbers);\n",
       "                    var barHeight = height / evenNumbers.length;\n",
       "                    var barWidth = function(datum) {\n",
       "                      return datum * (width / maxDataValue);\n",
       "                    };\n",
       "                    var barX = 0;\n",
       "                    var barY = function(datum, index) {\n",
       "                      return index * barHeight;\n",
       "                    };\n",
       "                    root.selectAll('rect.number')\n",
       "                        .data(evenNumbers).enter()\n",
       "                      .append('rect')\n",
       "                        .attr({\n",
       "                          'class': 'number',\n",
       "                          'x': barX,\n",
       "                          'y': barY,\n",
       "                          'width': barWidth,\n",
       "                          'height': barHeight,\n",
       "                          'fill': '#A6D854',\n",
       "                          'stroke': '#444',\n",
       "                     });    \n",
       "             });\n"
      ]
     },
     "metadata": {},
     "output_type": "display_data"
    }
   ],
   "source": [
    "html_src = \"\"\"\n",
    "                <h2>Simple D3 plot</h2>\n",
    "                <div id=\"chart\"></div>\n",
    "           \"\"\"\n",
    " \n",
    "test_d3_js = \"\"\"\n",
    "                    var width = 600;\n",
    "                    var height = 100;\n",
    "                    var root = d3.select('#chart').append('svg')\n",
    "                        .attr({\n",
    "                          'width': width,\n",
    "                          'height': height,\n",
    "                        })\n",
    "                        .style('border', '1px solid black');\n",
    "                     \n",
    "                    var evenNumbers = [0, 2, 4, 6, 8, 10];\n",
    "                    var maxDataValue = d3.max(evenNumbers);\n",
    "                    var barHeight = height / evenNumbers.length;\n",
    "                    var barWidth = function(datum) {\n",
    "                      return datum * (width / maxDataValue);\n",
    "                    };\n",
    "                    var barX = 0;\n",
    "                    var barY = function(datum, index) {\n",
    "                      return index * barHeight;\n",
    "                    };\n",
    "                    root.selectAll('rect.number')\n",
    "                        .data(evenNumbers).enter()\n",
    "                      .append('rect')\n",
    "                        .attr({\n",
    "                          'class': 'number',\n",
    "                          'x': barX,\n",
    "                          'y': barY,\n",
    "                          'width': barWidth,\n",
    "                          'height': barHeight,\n",
    "                          'fill': '#A6D854',\n",
    "                          'stroke': '#444',\n",
    "                     });    \n",
    "             \"\"\"\n",
    " \n",
    "js_libs = ['http://rawgithub.com/mbostock/d3/master/d3.min.js']\n",
    " \n",
    "import IPython\n",
    "from IPython.core.display import display_html, display_javascript, Javascript\n",
    "display_html(IPython.core.display.HTML(data=html_src))\n",
    "display_javascript( Javascript(data=test_d3_js, lib= js_libs))"
   ]
  },
  {
   "cell_type": "code",
   "execution_count": null,
   "metadata": {
    "collapsed": true
   },
   "outputs": [],
   "source": []
  },
  {
   "cell_type": "code",
   "execution_count": null,
   "metadata": {
    "collapsed": true
   },
   "outputs": [],
   "source": []
  }
 ],
 "metadata": {
  "kernelspec": {
   "display_name": "Python 2",
   "language": "python",
   "name": "python2"
  },
  "language_info": {
   "codemirror_mode": {
    "name": "ipython",
    "version": 2
   },
   "file_extension": ".py",
   "mimetype": "text/x-python",
   "name": "python",
   "nbconvert_exporter": "python",
   "pygments_lexer": "ipython2",
   "version": "2.7.8"
  }
 },
 "nbformat": 4,
 "nbformat_minor": 0
}
