{
 "cells": [
  {
   "cell_type": "markdown",
   "metadata": {},
   "source": [
    "<h1>D3 Choroplet con dati provenienti da un file CSV</h1>"
   ]
  },
  {
   "cell_type": "code",
   "execution_count": 95,
   "metadata": {
    "collapsed": true
   },
   "outputs": [],
   "source": [
    "import numpy as np\n",
    "import pandas as pd\n",
    "import matplotlib.pyplot as plt\n",
    "%matplotlib inline"
   ]
  },
  {
   "cell_type": "code",
   "execution_count": 96,
   "metadata": {
    "collapsed": false
   },
   "outputs": [
    {
     "data": {
      "application/javascript": [
       "//http://bl.ocks.org/mbostock/4060606\n",
       "require.config({\n",
       "    paths: {\n",
       "        d3: '//cdnjs.cloudflare.com/ajax/libs/d3/3.5.5/d3.min',\n",
       "        queue: '//cdnjs.cloudflare.com/ajax/libs/queue-async/1.0.7/queue.min',\n",
       "        topojson: '//cdnjs.cloudflare.com/ajax/libs/topojson/1.6.19/topojson.min'\n",
       "    }\n",
       "});"
      ],
      "text/plain": [
       "<IPython.core.display.Javascript object>"
      ]
     },
     "metadata": {},
     "output_type": "display_data"
    }
   ],
   "source": [
    "%%javascript\n",
    "//http://bl.ocks.org/mbostock/4060606\n",
    "require.config({\n",
    "    paths: {\n",
    "        d3: '//cdnjs.cloudflare.com/ajax/libs/d3/3.5.5/d3.min',\n",
    "        queue: '//cdnjs.cloudflare.com/ajax/libs/queue-async/1.0.7/queue.min',\n",
    "        topojson: '//cdnjs.cloudflare.com/ajax/libs/topojson/1.6.19/topojson.min'\n",
    "    }\n",
    "});"
   ]
  },
  {
   "cell_type": "code",
   "execution_count": 97,
   "metadata": {
    "collapsed": false
   },
   "outputs": [
    {
     "data": {
      "text/html": [
       "\n",
       "<style>\n",
       "\n",
       ".counties {\n",
       "  fill: none;\n",
       "}\n",
       "\n",
       ".states {\n",
       "  fill: none;\n",
       "  stroke: #fff;\n",
       "  stroke-linejoin: round;\n",
       "}\n",
       "\n",
       ".q0-9 { fill:rgb(247,251,255); }\n",
       ".q1-9 { fill:rgb(222,235,247); }\n",
       ".q2-9 { fill:rgb(198,219,239); }\n",
       ".q3-9 { fill:rgb(158,202,225); }\n",
       ".q4-9 { fill:rgb(107,174,214); }\n",
       ".q5-9 { fill:rgb(66,146,198); }\n",
       ".q6-9 { fill:rgb(33,113,181); }\n",
       ".q7-9 { fill:rgb(8,81,156); }\n",
       ".q8-9 { fill:rgb(8,48,107); }\n",
       "\n",
       "</style>\n",
       "<div id=\"choropleth\" />\n"
      ],
      "text/plain": [
       "<IPython.core.display.HTML object>"
      ]
     },
     "metadata": {},
     "output_type": "display_data"
    }
   ],
   "source": [
    "from IPython.core.display import display, Javascript, HTML\n",
    "\n",
    "display(HTML(\"\"\"\n",
    "<style>\n",
    "\n",
    ".counties {\n",
    "  fill: none;\n",
    "}\n",
    "\n",
    ".states {\n",
    "  fill: none;\n",
    "  stroke: #fff;\n",
    "  stroke-linejoin: round;\n",
    "}\n",
    "\n",
    ".q0-9 { fill:rgb(247,251,255); }\n",
    ".q1-9 { fill:rgb(222,235,247); }\n",
    ".q2-9 { fill:rgb(198,219,239); }\n",
    ".q3-9 { fill:rgb(158,202,225); }\n",
    ".q4-9 { fill:rgb(107,174,214); }\n",
    ".q5-9 { fill:rgb(66,146,198); }\n",
    ".q6-9 { fill:rgb(33,113,181); }\n",
    ".q7-9 { fill:rgb(8,81,156); }\n",
    ".q8-9 { fill:rgb(8,48,107); }\n",
    "\n",
    "</style>\n",
    "<div id=\"choropleth\" />\n",
    "\"\"\"))"
   ]
  },
  {
   "cell_type": "code",
   "execution_count": 98,
   "metadata": {
    "collapsed": true
   },
   "outputs": [],
   "source": [
    "import jinja2\n",
    "\n",
    "choropleth = jinja2.Template(\"\"\"\n",
    "\n",
    "require([\"d3\",\"queue\",\"topojson\"], function(d3,queue,topojson){\n",
    "   \n",
    "\n",
    "d3.select(\"#choropleth svg\").remove()\n",
    "\n",
    "\n",
    "var width = 960,\n",
    "    height = 600;\n",
    "\n",
    "var rateById = d3.map();\n",
    "\n",
    "var quantize = d3.scale.quantize()\n",
    "    .domain([0, .15])\n",
    "    .range(d3.range(9).map(function(i) { return \"q\" + i + \"-9\"; }));\n",
    "\n",
    "var projection = d3.geo.albersUsa()\n",
    "    .scale(1280)\n",
    "    .translate([width / 2, height / 2]);\n",
    "\n",
    "var path = d3.geo.path()\n",
    "    .projection(projection);\n",
    "\n",
    "//row to modify\n",
    "var svg = d3.select(\"#choropleth\").append(\"svg\")\n",
    "    .attr(\"width\", width)\n",
    "    .attr(\"height\", height);\n",
    "\n",
    "queue()\n",
    "    .defer(d3.json, \"us.json\")\n",
    "    .defer(d3.tsv, \"unemployment.tsv\", function(d) { rateById.set(d.id, +d.rate); })\n",
    "    .await(ready);\n",
    "\n",
    "function ready(error, us) {\n",
    "  if (error) throw error;\n",
    "\n",
    "  svg.append(\"g\")\n",
    "      .attr(\"class\", \"counties\")\n",
    "    .selectAll(\"path\")\n",
    "      .data(topojson.feature(us, us.objects.counties).features)\n",
    "    .enter().append(\"path\")\n",
    "      .attr(\"class\", function(d) { return quantize(rateById.get(d.id)); })\n",
    "      .attr(\"d\", path);\n",
    "\n",
    "  svg.append(\"path\")\n",
    "      .datum(topojson.mesh(us, us.objects.states, function(a, b) { return a !== b; }))\n",
    "      .attr(\"class\", \"states\")\n",
    "      .attr(\"d\", path);\n",
    "}\n",
    "\n",
    "// ____________________________________________________________\n",
    "\n",
    "});\n",
    "\n",
    "\"\"\");"
   ]
  },
  {
   "cell_type": "code",
   "execution_count": 99,
   "metadata": {
    "collapsed": false
   },
   "outputs": [
    {
     "data": {
      "application/javascript": [
       "\n",
       "\n",
       "require([\"d3\",\"queue\",\"topojson\"], function(d3,queue,topojson){\n",
       "\n",
       "//   var data = []\n",
       "   \n",
       "//   \n",
       "   \n",
       "\n",
       "d3.select(\"#choropleth svg\").remove()\n",
       "\n",
       "\n",
       "var width = 960,\n",
       "    height = 600;\n",
       "\n",
       "var rateById = d3.map();\n",
       "\n",
       "var quantize = d3.scale.quantize()\n",
       "    .domain([0, .15])\n",
       "    .range(d3.range(9).map(function(i) { return \"q\" + i + \"-9\"; }));\n",
       "\n",
       "var projection = d3.geo.albersUsa()\n",
       "    .scale(1280)\n",
       "    .translate([width / 2, height / 2]);\n",
       "\n",
       "var path = d3.geo.path()\n",
       "    .projection(projection);\n",
       "\n",
       "//row to modify\n",
       "var svg = d3.select(\"#choropleth\").append(\"svg\")\n",
       "    .attr(\"width\", width)\n",
       "    .attr(\"height\", height);\n",
       "\n",
       "queue()\n",
       "    .defer(d3.json, \"us.json\")\n",
       "    .defer(d3.tsv, \"unemployment.tsv\", function(d) { rateById.set(d.id, +d.rate); })\n",
       "    .await(ready);\n",
       "\n",
       "function ready(error, us) {\n",
       "  if (error) throw error;\n",
       "\n",
       "  svg.append(\"g\")\n",
       "      .attr(\"class\", \"counties\")\n",
       "    .selectAll(\"path\")\n",
       "      .data(topojson.feature(us, us.objects.counties).features)\n",
       "    .enter().append(\"path\")\n",
       "      .attr(\"class\", function(d) { return quantize(rateById.get(d.id)); })\n",
       "      .attr(\"d\", path);\n",
       "\n",
       "  svg.append(\"path\")\n",
       "      .datum(topojson.mesh(us, us.objects.states, function(a, b) { return a !== b; }))\n",
       "      .attr(\"class\", \"states\")\n",
       "      .attr(\"d\", path);\n",
       "}\n",
       "\n",
       "// ____________________________________________________________\n",
       "\n",
       "});\n"
      ],
      "text/plain": [
       "<IPython.core.display.Javascript object>"
      ]
     },
     "metadata": {},
     "output_type": "display_data"
    }
   ],
   "source": [
    "display(Javascript(choropleth.render()))"
   ]
  }
 ],
 "metadata": {
  "kernelspec": {
   "display_name": "Python 2",
   "language": "python",
   "name": "python2"
  },
  "language_info": {
   "codemirror_mode": {
    "name": "ipython",
    "version": 2
   },
   "file_extension": ".py",
   "mimetype": "text/x-python",
   "name": "python",
   "nbconvert_exporter": "python",
   "pygments_lexer": "ipython2",
   "version": "2.7.8"
  }
 },
 "nbformat": 4,
 "nbformat_minor": 0
}
